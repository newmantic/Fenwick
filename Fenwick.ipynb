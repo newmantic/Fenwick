{
  "nbformat": 4,
  "nbformat_minor": 0,
  "metadata": {
    "colab": {
      "provenance": [],
      "authorship_tag": "ABX9TyOMD5dJU+0ii9Uop8kLvpO9",
      "include_colab_link": true
    },
    "kernelspec": {
      "name": "python3",
      "display_name": "Python 3"
    },
    "language_info": {
      "name": "python"
    }
  },
  "cells": [
    {
      "cell_type": "markdown",
      "metadata": {
        "id": "view-in-github",
        "colab_type": "text"
      },
      "source": [
        "<a href=\"https://colab.research.google.com/github/newmantic/Fenwick/blob/main/Fenwick.ipynb\" target=\"_parent\"><img src=\"https://colab.research.google.com/assets/colab-badge.svg\" alt=\"Open In Colab\"/></a>"
      ]
    },
    {
      "cell_type": "code",
      "execution_count": 1,
      "metadata": {
        "id": "Yb_LlhNqjWg9"
      },
      "outputs": [],
      "source": [
        "class FenwickTree:\n",
        "    def __init__(self, size):\n",
        "        \"\"\"\n",
        "        Initialize a Fenwick Tree with a given size.\n",
        "\n",
        "        :param size: The size of the array for which the Fenwick Tree is built.\n",
        "        \"\"\"\n",
        "        self.size = size\n",
        "        self.tree = [0] * (size + 1)  # Tree is 1-indexed\n",
        "\n",
        "    def update(self, index, delta):\n",
        "        \"\"\"\n",
        "        Update the Fenwick Tree with a value at a specific index.\n",
        "\n",
        "        :param index: The index to update (1-indexed).\n",
        "        :param delta: The value to add to the index.\n",
        "        \"\"\"\n",
        "        while index <= self.size:\n",
        "            self.tree[index] += delta\n",
        "            index += index & -index\n",
        "\n",
        "    def query(self, index):\n",
        "        \"\"\"\n",
        "        Compute the prefix sum from the start to the given index.\n",
        "\n",
        "        :param index: The index to compute the prefix sum up to (1-indexed).\n",
        "        :return: The sum from index 1 to index `index`.\n",
        "        \"\"\"\n",
        "        sum_ = 0\n",
        "        while index > 0:\n",
        "            sum_ += self.tree[index]\n",
        "            index -= index & -index\n",
        "        return sum_\n",
        "\n",
        "    def range_query(self, left, right):\n",
        "        \"\"\"\n",
        "        Compute the sum of elements from index `left` to `right`.\n",
        "\n",
        "        :param left: The left index of the range (1-indexed).\n",
        "        :param right: The right index of the range (1-indexed).\n",
        "        :return: The sum from index `left` to `right`.\n",
        "        \"\"\"\n",
        "        return self.query(right) - self.query(left - 1)"
      ]
    },
    {
      "cell_type": "code",
      "source": [
        "def test_case_1():\n",
        "    # Create a Fenwick Tree for an array of size 10\n",
        "    ft = FenwickTree(10)\n",
        "\n",
        "    # Perform some updates\n",
        "    ft.update(1, 5)  # Update index 1 by adding 5\n",
        "    ft.update(2, 3)  # Update index 2 by adding 3\n",
        "    ft.update(5, 2)  # Update index 5 by adding 2\n",
        "\n",
        "    # Perform some queries\n",
        "    print(\"Sum of first 5 elements:\", ft.query(5))  # Should return 5 + 3 + 0 + 0 + 2 = 10\n",
        "    print(\"Sum of first 2 elements:\", ft.query(2))  # Should return 5 + 3 = 8\n",
        "    print(\"Sum from index 2 to 5:\", ft.range_query(2, 5))  # Should return 3 + 0 + 0 + 2 = 5\n",
        "\n",
        "test_case_1()"
      ],
      "metadata": {
        "colab": {
          "base_uri": "https://localhost:8080/"
        },
        "id": "iiHPu1Eaj7gA",
        "outputId": "9bc36cae-db5c-4dfd-94c7-b1ca41060e18"
      },
      "execution_count": 2,
      "outputs": [
        {
          "output_type": "stream",
          "name": "stdout",
          "text": [
            "Sum of first 5 elements: 10\n",
            "Sum of first 2 elements: 8\n",
            "Sum from index 2 to 5: 5\n"
          ]
        }
      ]
    },
    {
      "cell_type": "code",
      "source": [
        "class RangeFenwickTree:\n",
        "    def __init__(self, size):\n",
        "        self.ft1 = FenwickTree(size)\n",
        "        self.ft2 = FenwickTree(size)\n",
        "        self.size = size\n",
        "\n",
        "    def update_range(self, left, right, delta):\n",
        "        \"\"\"\n",
        "        Perform a range update by adding `delta` to each element in the range [left, right].\n",
        "        \"\"\"\n",
        "        self.ft1.update(left, delta)\n",
        "        self.ft1.update(right + 1, -delta)\n",
        "        self.ft2.update(left, delta * (left - 1))\n",
        "        self.ft2.update(right + 1, -delta * right)\n",
        "\n",
        "    def query_range(self, index):\n",
        "        \"\"\"\n",
        "        Query the prefix sum up to a given index after applying range updates.\n",
        "        \"\"\"\n",
        "        return self.ft1.query(index) * index - self.ft2.query(index)\n",
        "\n",
        "    def range_sum(self, left, right):\n",
        "        \"\"\"\n",
        "        Compute the sum of elements in the range [left, right].\n",
        "        \"\"\"\n",
        "        return self.query_range(right) - self.query_range(left - 1)\n",
        "\n",
        "def test_case_2():\n",
        "    # Create a Range Fenwick Tree for an array of size 10\n",
        "    rft = RangeFenwickTree(10)\n",
        "\n",
        "    # Perform some range updates\n",
        "    rft.update_range(1, 5, 10)  # Add 10 to elements in the range [1, 5]\n",
        "    rft.update_range(3, 7, 5)   # Add 5 to elements in the range [3, 7]\n",
        "\n",
        "    # Perform some range queries\n",
        "    print(\"Sum of first 5 elements:\", rft.range_sum(1, 5))  # Should account for both updates\n",
        "    print(\"Sum of first 7 elements:\", rft.range_sum(1, 7))  # Should account for both updates\n",
        "    print(\"Sum from index 3 to 7:\", rft.range_sum(3, 7))    # Should account for both updates\n",
        "\n",
        "test_case_2()"
      ],
      "metadata": {
        "colab": {
          "base_uri": "https://localhost:8080/"
        },
        "id": "0r-wJ_b3j_Ey",
        "outputId": "90dfe7cf-89bc-4f76-c6a5-cb9397e88274"
      },
      "execution_count": 3,
      "outputs": [
        {
          "output_type": "stream",
          "name": "stdout",
          "text": [
            "Sum of first 5 elements: 65\n",
            "Sum of first 7 elements: 75\n",
            "Sum from index 3 to 7: 55\n"
          ]
        }
      ]
    }
  ]
}